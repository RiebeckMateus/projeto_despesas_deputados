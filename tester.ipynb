{
 "cells": [
  {
   "cell_type": "code",
   "execution_count": 1,
   "metadata": {},
   "outputs": [],
   "source": [
    "import requests\n",
    "import re\n",
    "\n",
    "url = 'https://dadosabertos.camara.leg.br/api/v2/deputados/204379/despesas?ano=2022&ordem=ASC&ordenarPor=mes'\n",
    "\n",
    "response = requests.get(url)"
   ]
  },
  {
   "cell_type": "code",
   "execution_count": 2,
   "metadata": {},
   "outputs": [
    {
     "data": {
      "text/plain": [
       "<Response [200]>"
      ]
     },
     "execution_count": 2,
     "metadata": {},
     "output_type": "execute_result"
    }
   ],
   "source": [
    "response"
   ]
  },
  {
   "cell_type": "code",
   "execution_count": 3,
   "metadata": {},
   "outputs": [],
   "source": [
    "json_file = response.json()"
   ]
  },
  {
   "cell_type": "code",
   "execution_count": 4,
   "metadata": {},
   "outputs": [
    {
     "data": {
      "text/plain": [
       "[]"
      ]
     },
     "execution_count": 4,
     "metadata": {},
     "output_type": "execute_result"
    }
   ],
   "source": [
    "json_file['dados']"
   ]
  },
  {
   "cell_type": "code",
   "execution_count": 8,
   "metadata": {},
   "outputs": [
    {
     "name": "stdout",
     "output_type": "stream",
     "text": [
      "sss\n"
     ]
    }
   ],
   "source": [
    "if json_file['dados'] == []:\n",
    "    print('sss')"
   ]
  },
  {
   "cell_type": "code",
   "execution_count": 19,
   "metadata": {},
   "outputs": [],
   "source": [
    "footlinks = json_file['links']"
   ]
  },
  {
   "cell_type": "code",
   "execution_count": 20,
   "metadata": {},
   "outputs": [],
   "source": [
    "last_page_link = next((link['href'] for link in footlinks if link['rel'] == 'last'), None)"
   ]
  },
  {
   "cell_type": "code",
   "execution_count": 21,
   "metadata": {},
   "outputs": [
    {
     "data": {
      "text/plain": [
       "'https://dadosabertos.camara.leg.br/api/v2/deputados?pagina=6&itens=100'"
      ]
     },
     "execution_count": 21,
     "metadata": {},
     "output_type": "execute_result"
    }
   ],
   "source": [
    "last_page_link"
   ]
  },
  {
   "cell_type": "code",
   "execution_count": 25,
   "metadata": {},
   "outputs": [],
   "source": [
    "last_page = re.search(r'pagina=(\\d+)', last_page_link)\n"
   ]
  },
  {
   "cell_type": "code",
   "execution_count": 27,
   "metadata": {},
   "outputs": [
    {
     "data": {
      "text/plain": [
       "6"
      ]
     },
     "execution_count": 27,
     "metadata": {},
     "output_type": "execute_result"
    }
   ],
   "source": [
    "int(last_page.group(1))"
   ]
  },
  {
   "cell_type": "code",
   "execution_count": 5,
   "metadata": {},
   "outputs": [],
   "source": [
    "from classtester import DadosAbertos\n",
    "import plotly.express as px\n",
    "import pandas as pd\n",
    "app = DadosAbertos()"
   ]
  },
  {
   "cell_type": "code",
   "execution_count": null,
   "metadata": {},
   "outputs": [],
   "source": [
    "df_2024 = app.despesas_deputados_df(204379, 2024)\n",
    "df_2023 = app.despesas_deputados_df(204379, 2023)"
   ]
  },
  {
   "cell_type": "code",
   "execution_count": 7,
   "metadata": {},
   "outputs": [],
   "source": [
    "df_combinado = app.concatenar_df(df_2024, df_2023)"
   ]
  },
  {
   "cell_type": "code",
   "execution_count": 8,
   "metadata": {},
   "outputs": [],
   "source": [
    "df_combinado['dataDocumento'] = pd.to_datetime(df_combinado['dataDocumento'])"
   ]
  },
  {
   "cell_type": "code",
   "execution_count": 10,
   "metadata": {},
   "outputs": [
    {
     "data": {
      "text/html": [
       "<div>\n",
       "<style scoped>\n",
       "    .dataframe tbody tr th:only-of-type {\n",
       "        vertical-align: middle;\n",
       "    }\n",
       "\n",
       "    .dataframe tbody tr th {\n",
       "        vertical-align: top;\n",
       "    }\n",
       "\n",
       "    .dataframe thead th {\n",
       "        text-align: right;\n",
       "    }\n",
       "</style>\n",
       "<table border=\"1\" class=\"dataframe\">\n",
       "  <thead>\n",
       "    <tr style=\"text-align: right;\">\n",
       "      <th></th>\n",
       "      <th>ano</th>\n",
       "      <th>mes</th>\n",
       "      <th>tipoDespesa</th>\n",
       "      <th>codDocumento</th>\n",
       "      <th>tipoDocumento</th>\n",
       "      <th>codTipoDocumento</th>\n",
       "      <th>dataDocumento</th>\n",
       "      <th>numDocumento</th>\n",
       "      <th>valorDocumento</th>\n",
       "      <th>urlDocumento</th>\n",
       "      <th>nomeFornecedor</th>\n",
       "      <th>cnpjCpfFornecedor</th>\n",
       "      <th>valorLiquido</th>\n",
       "      <th>valorGlosa</th>\n",
       "      <th>numRessarcimento</th>\n",
       "      <th>codLote</th>\n",
       "      <th>parcela</th>\n",
       "    </tr>\n",
       "  </thead>\n",
       "  <tbody>\n",
       "    <tr>\n",
       "      <th>163</th>\n",
       "      <td>2024</td>\n",
       "      <td>1</td>\n",
       "      <td>LOCAÇÃO OU FRETAMENTO DE VEÍCULOS AUTOMOTORES</td>\n",
       "      <td>7702098</td>\n",
       "      <td>Nota Fiscal</td>\n",
       "      <td>0</td>\n",
       "      <td>2024-03-28</td>\n",
       "      <td>2475</td>\n",
       "      <td>7800.0</td>\n",
       "      <td>https://www.camara.leg.br/cota-parlamentar/doc...</td>\n",
       "      <td>R. M. R. DE ALMEIDA - ME</td>\n",
       "      <td>02747184000183</td>\n",
       "      <td>7800.0</td>\n",
       "      <td>0.0</td>\n",
       "      <td></td>\n",
       "      <td>2021332</td>\n",
       "      <td>0</td>\n",
       "    </tr>\n",
       "    <tr>\n",
       "      <th>118</th>\n",
       "      <td>2024</td>\n",
       "      <td>1</td>\n",
       "      <td>LOCAÇÃO OU FRETAMENTO DE VEÍCULOS AUTOMOTORES</td>\n",
       "      <td>7702098</td>\n",
       "      <td>Nota Fiscal</td>\n",
       "      <td>0</td>\n",
       "      <td>2024-03-28</td>\n",
       "      <td>2475</td>\n",
       "      <td>7800.0</td>\n",
       "      <td>https://www.camara.leg.br/cota-parlamentar/doc...</td>\n",
       "      <td>R. M. R. DE ALMEIDA - ME</td>\n",
       "      <td>02747184000183</td>\n",
       "      <td>7800.0</td>\n",
       "      <td>0.0</td>\n",
       "      <td></td>\n",
       "      <td>2021332</td>\n",
       "      <td>0</td>\n",
       "    </tr>\n",
       "    <tr>\n",
       "      <th>193</th>\n",
       "      <td>2024</td>\n",
       "      <td>1</td>\n",
       "      <td>LOCAÇÃO OU FRETAMENTO DE VEÍCULOS AUTOMOTORES</td>\n",
       "      <td>7702098</td>\n",
       "      <td>Nota Fiscal</td>\n",
       "      <td>0</td>\n",
       "      <td>2024-03-28</td>\n",
       "      <td>2475</td>\n",
       "      <td>7800.0</td>\n",
       "      <td>https://www.camara.leg.br/cota-parlamentar/doc...</td>\n",
       "      <td>R. M. R. DE ALMEIDA - ME</td>\n",
       "      <td>02747184000183</td>\n",
       "      <td>7800.0</td>\n",
       "      <td>0.0</td>\n",
       "      <td></td>\n",
       "      <td>2021332</td>\n",
       "      <td>0</td>\n",
       "    </tr>\n",
       "    <tr>\n",
       "      <th>328</th>\n",
       "      <td>2024</td>\n",
       "      <td>1</td>\n",
       "      <td>LOCAÇÃO OU FRETAMENTO DE VEÍCULOS AUTOMOTORES</td>\n",
       "      <td>7702098</td>\n",
       "      <td>Nota Fiscal</td>\n",
       "      <td>0</td>\n",
       "      <td>2024-03-28</td>\n",
       "      <td>2475</td>\n",
       "      <td>7800.0</td>\n",
       "      <td>https://www.camara.leg.br/cota-parlamentar/doc...</td>\n",
       "      <td>R. M. R. DE ALMEIDA - ME</td>\n",
       "      <td>02747184000183</td>\n",
       "      <td>7800.0</td>\n",
       "      <td>0.0</td>\n",
       "      <td></td>\n",
       "      <td>2021332</td>\n",
       "      <td>0</td>\n",
       "    </tr>\n",
       "    <tr>\n",
       "      <th>133</th>\n",
       "      <td>2024</td>\n",
       "      <td>1</td>\n",
       "      <td>LOCAÇÃO OU FRETAMENTO DE VEÍCULOS AUTOMOTORES</td>\n",
       "      <td>7702098</td>\n",
       "      <td>Nota Fiscal</td>\n",
       "      <td>0</td>\n",
       "      <td>2024-03-28</td>\n",
       "      <td>2475</td>\n",
       "      <td>7800.0</td>\n",
       "      <td>https://www.camara.leg.br/cota-parlamentar/doc...</td>\n",
       "      <td>R. M. R. DE ALMEIDA - ME</td>\n",
       "      <td>02747184000183</td>\n",
       "      <td>7800.0</td>\n",
       "      <td>0.0</td>\n",
       "      <td></td>\n",
       "      <td>2021332</td>\n",
       "      <td>0</td>\n",
       "    </tr>\n",
       "  </tbody>\n",
       "</table>\n",
       "</div>"
      ],
      "text/plain": [
       "      ano  mes  ...  codLote  parcela\n",
       "163  2024    1  ...  2021332        0\n",
       "118  2024    1  ...  2021332        0\n",
       "193  2024    1  ...  2021332        0\n",
       "328  2024    1  ...  2021332        0\n",
       "133  2024    1  ...  2021332        0\n",
       "\n",
       "[5 rows x 17 columns]"
      ]
     },
     "execution_count": 10,
     "metadata": {},
     "output_type": "execute_result"
    }
   ],
   "source": [
    "df_combinado = df_combinado.sort_values(by='dataDocumento', ascending=False)\n",
    "df_combinado.head()"
   ]
  },
  {
   "cell_type": "code",
   "execution_count": 14,
   "metadata": {},
   "outputs": [
    {
     "data": {
      "text/plain": [
       "Timestamp('2023-04-03 00:00:00')"
      ]
     },
     "execution_count": 14,
     "metadata": {},
     "output_type": "execute_result"
    }
   ],
   "source": [
    "df_combinado.loc[df_combinado['dataDocumento'].dt.year == 2023, 'dataDocumento'].max()"
   ]
  },
  {
   "cell_type": "code",
   "execution_count": null,
   "metadata": {},
   "outputs": [],
   "source": []
  }
 ],
 "metadata": {
  "kernelspec": {
   "display_name": "venv",
   "language": "python",
   "name": "python3"
  },
  "language_info": {
   "codemirror_mode": {
    "name": "ipython",
    "version": 3
   },
   "file_extension": ".py",
   "mimetype": "text/x-python",
   "name": "python",
   "nbconvert_exporter": "python",
   "pygments_lexer": "ipython3",
   "version": "3.12.0"
  }
 },
 "nbformat": 4,
 "nbformat_minor": 2
}
